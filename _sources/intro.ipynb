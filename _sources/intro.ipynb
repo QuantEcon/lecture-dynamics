{
 "cells": [
  {
   "cell_type": "markdown",
   "id": "20b86e0f",
   "metadata": {},
   "source": [
    "# Introduction to Economic Dynamics\n",
    "\n",
    "This website presents an introductory set of lectures on economic dynamics.\n",
    "\n",
    "```{tableofcontents}\n",
    "```"
   ]
  }
 ],
 "metadata": {
  "jupytext": {
   "text_representation": {
    "extension": ".md",
    "format_name": "myst"
   }
  },
  "kernelspec": {
   "display_name": "Python 3",
   "language": "python",
   "name": "python3"
  },
  "source_map": [
   10
  ]
 },
 "nbformat": 4,
 "nbformat_minor": 5
}